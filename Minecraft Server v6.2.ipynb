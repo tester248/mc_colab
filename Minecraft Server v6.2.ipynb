{
  "nbformat": 4,
  "nbformat_minor": 0,
  "metadata": {
    "colab": {
      "name": "Minecraft Server v6.2",
      "provenance": []
    },
    "kernelspec": {
      "name": "python3",
      "display_name": "Python 3"
    },
    "language_info": {
      "name": "python"
    }
  },
  "cells": [
    {
      "cell_type": "markdown",
      "metadata": {
        "id": "ALGvnQG0nUv5"
      },
      "source": [
        "#Minecraft Server in Google Colab"
      ]
    },
    {
      "cell_type": "markdown",
      "metadata": {
        "id": "9ulUDpU0Bh4U"
      },
      "source": [
        "STARTING SERVER (!!Scroll down to complete setup steps first!!)"
      ]
    },
    {
      "cell_type": "code",
      "metadata": {
        "id": "gX7ZcJNaB3kq",
        "cellView": "form"
      },
      "source": [
        "import os\n",
        "#@markdown ####Path to all server files\n",
        "#@markdown ######omit / at the end\n",
        "SERVER_DIR= \"/content/drive/MyDrive/MCServer\\\"\" #@param {type:\"string\"}\n",
        "\n",
        "  \n",
        "#Will remove and redownload server.jar to prevent errors\n",
        "%cd \"$SERVER_DIR\"\n",
        "!rm server.jar\n",
        "#@markdown ####Paste direct link for your server jar file below\n",
        "Link = 'https://api.pl3x.net/v2/purpur/1.17.1/latest/download' #@param {type:\"string\"}\n",
        "!wget -q --show-progress -O server.jar $Link\n",
        "\n",
        "#JAVA 16\n",
        "%cd /opt/\n",
        "!wget -q --show-progress  \"https://github.com/ibmruntimes/semeru16-binaries/releases/download/jdk-16.0.2%2B7_openj9-0.27.0/ibm-semeru-open-jre_x64_linux_16.0.2_7_openj9-0.27.0.tar.gz\"\n",
        "!tar xzf \"ibm-semeru-open-jre_x64_linux_16.0.2_7_openj9-0.27.0.tar.gz\"\n",
        "!rm \"ibm-semeru-open-jre_x64_linux_16.0.2_7_openj9-0.27.0.tar.gz\"\n",
        "%cd \"$SERVER_DIR\"\n",
        "\n",
        "\n",
        "#Configuring ngrok tunnels\n",
        "!pip install pyngrok --quiet\n",
        "from pyngrok import conf, ngrok\n",
        "from termcolor import colored\n",
        " \n",
        "# Terminate open tunnels if exist\n",
        "ngrok.kill()\n",
        "#@markdown #### Setting the authtoken\n",
        "#@markdown ######Get your authtoken from https://dashboard.ngrok.com/auth\n",
        "NGROK_AUTH_TOKEN = \"\" #@param {type:\"string\"}\n",
        "#@markdown #####Set the ngrok region nearest to you (check region codes at the bottom of this notebook)\n",
        "Region=\"eu\" #@param {type:\"string\"}\n",
        "ngrok.set_auth_token(NGROK_AUTH_TOKEN)\n",
        "conf.get_default().region = Region\n",
        "\n",
        "\n",
        "#Open a TCP tunnel on port 25565 for Minecraft\n",
        "mc_url = ngrok.connect(25565, proto=\"tcp\", options={\"country\": \"in\"})\n",
        "print(colored(\"Server IP for game:\", \"green\"), colored(mc_url, \"blue\"))\n",
        "print(colored(\"Omit tcp:// part when connecting \",\"green\"))\n",
        " \n",
        " \n",
        "# Open a HTTPs tunnel on port 8081 for Parrotpanel\n",
        "panel_url = ngrok.connect(8081, proto=\"http\", options={\"country\": \"in\"})\n",
        "print(colored(\"ParrotPanel address\",\"green\"), colored(panel_url, \"blue\"))\n",
        " \n",
        "## STARTING SERVER\n",
        " \n",
        "print('Starting server now...')\n",
        "!/opt/jdk-16.0.2+7-jre/bin/java -version\n",
        "!/opt/jdk-16.0.2+7-jre/bin/java -Xmx10G -Xms128M -Dterminal.jline=false -Dterminal.ansi=true -XX:+UseG1GC -XX:+ParallelRefProcEnabled -XX:MaxGCPauseMillis=200 -XX:+UnlockExperimentalVMOptions -XX:+DisableExplicitGC -XX:+AlwaysPreTouch -XX:G1NewSizePercent=30 -XX:G1MaxNewSizePercent=40 -XX:G1HeapRegionSize=8M -XX:G1ReservePercent=20 -XX:G1HeapWastePercent=5 -XX:G1MixedGCCountTarget=4 -XX:InitiatingHeapOccupancyPercent=15 -XX:G1MixedGCLiveThresholdPercent=90 -XX:G1RSetUpdatingPauseTimePercent=5 -XX:SurvivorRatio=32 -XX:+PerfDisableSharedMem -XX:MaxTenuringThreshold=1 -Dusing.aikars.flags=https://mcflags.emc.gs -Daikars.new.flags=true -jar server.jar nogui\n"
      ],
      "execution_count": null,
      "outputs": []
    },
    {
      "cell_type": "markdown",
      "metadata": {
        "id": "7hzNiX8kqK7J"
      },
      "source": [
        "For restarting the server if needed (stop the above cell first then run this cell below )"
      ]
    },
    {
      "cell_type": "code",
      "metadata": {
        "id": "qNl7C8HRTPOT"
      },
      "source": [
        "!/opt/jdk-16.0.2+7-jre/bin/java -Xmx10G -Xms128M -Dterminal.jline=false -Dterminal.ansi=true -XX:+UseG1GC -XX:+ParallelRefProcEnabled -XX:MaxGCPauseMillis=200 -XX:+UnlockExperimentalVMOptions -XX:+DisableExplicitGC -XX:+AlwaysPreTouch -XX:G1NewSizePercent=30 -XX:G1MaxNewSizePercent=40 -XX:G1HeapRegionSize=8M -XX:G1ReservePercent=20 -XX:G1HeapWastePercent=5 -XX:G1MixedGCCountTarget=4 -XX:InitiatingHeapOccupancyPercent=15 -XX:G1MixedGCLiveThresholdPercent=90 -XX:G1RSetUpdatingPauseTimePercent=5 -XX:SurvivorRatio=32 -XX:+PerfDisableSharedMem -XX:MaxTenuringThreshold=1 -Dusing.aikars.flags=https://mcflags.emc.gs -Daikars.new.flags=true -jar server.jar nogui"
      ],
      "execution_count": null,
      "outputs": []
    },
    {
      "cell_type": "markdown",
      "metadata": {
        "id": "LAV1PIKNnDwH"
      },
      "source": [
        "#**SETUP STEPS**\n",
        "\n",
        "\n"
      ]
    },
    {
      "cell_type": "markdown",
      "metadata": {
        "id": "-yeirmE4wqV9"
      },
      "source": [
        "Upload Backups/Files (Skip if starting fresh)"
      ]
    },
    {
      "cell_type": "code",
      "metadata": {
        "id": "01QjUBb_tTqN"
      },
      "source": [
        "#PATH TO SERVER FILES (omit / at the end)\n",
        "SERVER_DIR= \"/content/drive/MyDrive/MCServer\"\n",
        " \n",
        "!mkdir \"$SERVER_DIR\"\n",
        "%cd \"$SERVER_DIR\"\n",
        "from google.colab import files\n",
        "source = files.upload()\n",
        " \n",
        "##download from direct url (remove hash to uncomment)\n",
        "#URL=\"link\"\n",
        "#!wget $link"
      ],
      "execution_count": null,
      "outputs": []
    },
    {
      "cell_type": "markdown",
      "metadata": {
        "id": "cFqR5x3sz2Fe"
      },
      "source": [
        "Upload plugins (Skip if you don't want any..or come back later to add plugins)"
      ]
    },
    {
      "cell_type": "code",
      "metadata": {
        "id": "6LbXXgsUzyYO"
      },
      "source": [
        "#PATH TO SERVER FILES (omit / at the end)\n",
        "SERVER_DIR= \"/content/drive/MyDrive/MCServer\"\n",
        "!mkdir \"$SERVER_DIR\"\n",
        "!mkdir \"$SERVER_DIR/plugins\"\n",
        "%cd \"$SERVER_DIR/plugins\"\n",
        "from google.colab import files\n",
        "source = files.upload()"
      ],
      "execution_count": null,
      "outputs": []
    },
    {
      "cell_type": "markdown",
      "metadata": {
        "id": "3SrFUCxY3BLS"
      },
      "source": [
        "Upload Mods (if using forge/mohist)"
      ]
    },
    {
      "cell_type": "code",
      "metadata": {
        "id": "c-ctCQqS3A12"
      },
      "source": [
        "#PATH TO SERVER FILES (omit / at the end)\n",
        "SERVER_DIR= \"/content/drive/MyDrive/MCServer\"\n",
        "!mkdir \"$SERVER_DIR\"\n",
        "!mkdir \"$SERVER_DIR/mods\"\n",
        "%cd \"$SERVER_DIR/mods\"\n",
        "from google.colab import files\n",
        "source = files.upload()"
      ],
      "execution_count": null,
      "outputs": []
    },
    {
      "cell_type": "markdown",
      "metadata": {
        "id": "GKgccVCnxfPx"
      },
      "source": [
        "Unzip/Untar files (Skip if didn't upload any backups)"
      ]
    },
    {
      "cell_type": "code",
      "metadata": {
        "id": "3l4B0xApxHPu"
      },
      "source": [
        "#note this will go and decompress all the zipped/tar files in server dir\n",
        "%cd \"$SERVER_DIR\"\n",
        "!unzip '*.zip'\n",
        "!tar xvzf '*.tar.gz'"
      ],
      "execution_count": null,
      "outputs": []
    },
    {
      "cell_type": "markdown",
      "metadata": {
        "id": "tO3tzYDz0Zlc"
      },
      "source": [
        "Edit eula and server.properties (Compulsory)"
      ]
    },
    {
      "cell_type": "code",
      "metadata": {
        "id": "BzXM5Ulg6G1A"
      },
      "source": [
        "#PATH TO SERVER FILES (omit / at the end)\n",
        "SERVER_DIR=\"/content/drive/MyDrive/MCServer\"\n",
        "!mkdir \"$SERVER_DIR\"\n",
        "%cd \"$SERVER_DIR\""
      ],
      "execution_count": null,
      "outputs": []
    },
    {
      "cell_type": "code",
      "metadata": {
        "id": "S3C6onuO0eeU"
      },
      "source": [
        "%%shell\n",
        "rm eula.txt\n",
        "echo eula=true > eula.txt\n",
        "\n",
        "rm server.properties\n",
        "echo \"enable-jmx-monitoring=false\n",
        "rcon.port=1026\n",
        "level-seed=\n",
        "enable-command-block=false\n",
        "gamemode=survival\n",
        "enable-query=false\n",
        "generator-settings=\n",
        "level-name=world\n",
        "motd=A pogtastic server\n",
        "query.port=25565\n",
        "pvp=true\n",
        "generate-structures=true\n",
        "difficulty=easy\n",
        "network-compression-threshold=256\n",
        "max-tick-time=60000\n",
        "max-players=20\n",
        "use-native-transport=true\n",
        "enable-status=true\n",
        "online-mode=false\n",
        "allow-flight=false\n",
        "broadcast-rcon-to-ops=false\n",
        "view-distance=10\n",
        "max-build-height=256\n",
        "server-ip=\n",
        "allow-nether=true\n",
        "server-port=25565\n",
        "sync-chunk-writes=true\n",
        "enable-rcon=true\n",
        "op-permission-level=4\n",
        "server-name=A Based Minecraft Server\n",
        "prevent-proxy-connections=false\n",
        "resource-pack=\n",
        "entity-broadcast-range-percentage=100\n",
        "player-idle-timeout=0\n",
        "rcon.password=test\n",
        "force-gamemode=false\n",
        "debug=false\n",
        "rate-limit=0\n",
        "hardcore=false\n",
        "white-list=false\n",
        "broadcast-console-to-ops=true\n",
        "spawn-npcs=true\n",
        "spawn-animals=true\n",
        "snooper-enabled=true\n",
        "function-permission-level=2\n",
        "level-type=default\n",
        "text-filtering-config=\n",
        "spawn-monsters=true\n",
        "enforce-whitelist=false\n",
        "spawn-protection=16\n",
        "resource-pack-sha1=\n",
        "max-world-size=29999984\" >> server.properties"
      ],
      "execution_count": null,
      "outputs": []
    },
    {
      "cell_type": "markdown",
      "metadata": {
        "id": "yTsPtAgW3BMf"
      },
      "source": [
        "Installing ParrotPanel Plugin (Optional)"
      ]
    },
    {
      "cell_type": "code",
      "metadata": {
        "id": "6DFEBvYwybos"
      },
      "source": [
        "#PATH TO SERVER FILES (omit / at the end)\n",
        "SERVER_DIR= \"/content/drive/MyDrive/MCServer\"\n",
        "\n",
        "!mkdir \"$SERVER_DIR/plugins\"\n",
        "%cd \"$SERVER_DIR/plugins\"\n",
        "\n",
        "!wget \"https://downloads.testersquad.ml/4:/ParrotPanel_1.7-ALPHA.jar\"\n",
        "\n",
        "#UPLOAD THE PARROTPANEL JAR\n",
        "\n",
        "!mkdir \"$SERVER_DIR/plugins/ParrotPanel\"\n",
        "%cd \"$SERVER_DIR/plugins/ParrotPanel\""
      ],
      "execution_count": null,
      "outputs": []
    },
    {
      "cell_type": "code",
      "metadata": {
        "id": "1jH9Bx903RJ3",
        "colab": {
          "base_uri": "https://localhost:8080/"
        },
        "outputId": "07994b5b-d80e-41fe-d91c-6b3d776c4dc5"
      },
      "source": [
        "%%shell\n",
        "rm config.yml\n",
        "echo \"http-port: 8081\n",
        "debug-mode: false\n",
        "use-ssl: false\n",
        "keystore-name: ''\n",
        "keystore-password: ''\n",
        "users:\n",
        "  admin:\n",
        "    password: 1000:64e22ec01f1ee54aec1d777d525ba85d:92748dea90584bd55072b975428893a444c6afc95b898c232e65f6c0ea1d979263cc22d9d5a30b90672cfef9a23dfb4c6abe353df259cee5b4e25660ce887912\n",
        "    canEditFiles: true\n",
        "    canAddUser: true\n",
        "    canSendCommands: true\" >> config.yml"
      ],
      "execution_count": null,
      "outputs": [
        {
          "output_type": "execute_result",
          "data": {
            "text/plain": [
              ""
            ]
          },
          "metadata": {},
          "execution_count": 3
        }
      ]
    },
    {
      "cell_type": "markdown",
      "metadata": {
        "id": "KNV5HXtc3vVo"
      },
      "source": [
        "The default username is \"admin\" and password is \"lol\"\n",
        "you can change this later form the console using these commands\n",
        "\n",
        "\n",
        "```\n",
        "/parrotpanel addUser <username> <password>\n",
        "or\n",
        "/parrotpanel changePassword <username> <oldPassword> <newPassword>\n",
        "```\n",
        "\n"
      ]
    },
    {
      "cell_type": "markdown",
      "metadata": {
        "id": "50NOO4C-_NC6"
      },
      "source": [
        "#Download Backup"
      ]
    },
    {
      "cell_type": "markdown",
      "metadata": {
        "id": "PSMX7uSO_NC6"
      },
      "source": [
        "Backup Worlds"
      ]
    },
    {
      "cell_type": "code",
      "metadata": {
        "cellView": "form",
        "id": "sgmTMfCD_NC7"
      },
      "source": [
        "#@markdown ####Path to server files\n",
        "#@markdown ######omit / at the end\n",
        "SERVER_DIR= \"/content/drive/MyDrive/MCServer\" #@param {type:\"string\"}\n",
        " # Terminate open tunnels if exist\n",
        "ngrok.kill()\n",
        "#@markdown #### Setting the authtoken\n",
        "#@markdown ######Get your authtoken from https://dashboard.ngrok.com/auth\n",
        "NGROK_AUTH_TOKEN = \"\" #@param {type:\"string\"}\n",
        "#@markdown #####Set the ngrok region nearest to you (check region codes at the bottom of this notebook)\n",
        "Region=\"in\" #@param {type:\"string\"}\n",
        "ngrok.set_auth_token(NGROK_AUTH_TOKEN)\n",
        "conf.get_default().region = Region\n",
        " \n",
        "# Open a HTTPs tunnel on port 6969 for Download Server\n",
        "download_url = ngrok.connect(6969, proto=\"http\", options={\"country\": \"in\"})\n",
        " #@markdown ####World Name\n",
        "world= \"world\" #@param {type:\"string\"}\n",
        "%cd \"$SERVER_DIR\"\n",
        "!zip -r -0 /content/worlds.zip '$world'*\n",
        "%cd /content\n",
        "!nohup python3 -m http.server 6969 &> http.txt &\n",
        "print(colored(\"Download address\",\"green\"), colored(download_url, \"blue\"))"
      ],
      "execution_count": null,
      "outputs": []
    },
    {
      "cell_type": "markdown",
      "metadata": {
        "id": "6RI6o3Px_NC8"
      },
      "source": [
        "Backup Plugins"
      ]
    },
    {
      "cell_type": "code",
      "metadata": {
        "id": "y4JjFbkC_NC9",
        "cellView": "form"
      },
      "source": [
        "#@markdown ####Path to server files\n",
        "#@markdown ######omit / at the end\n",
        "SERVER_DIR= \"/content/drive/MyDrive/MCServer\" #@param {type:\"string\"}\n",
        " # Terminate open tunnels if exist\n",
        "ngrok.kill()\n",
        "#@markdown #### Setting the authtoken\n",
        "#@markdown ######Get your authtoken from https://dashboard.ngrok.com/auth\n",
        "NGROK_AUTH_TOKEN = \"\" #@param {type:\"string\"}\n",
        "#@markdown #####Set the ngrok region nearest to you (check region codes at the bottom of this notebook)\n",
        "Region=\"in\" #@param {type:\"string\"}\n",
        "ngrok.set_auth_token(NGROK_AUTH_TOKEN)\n",
        "conf.get_default().region = Region\n",
        " \n",
        "# Open a HTTPs tunnel on port 6969 for Download Server\n",
        "download_url = ngrok.connect(6969, proto=\"http\", options={\"country\": \"in\"})\n",
        "\n",
        "\n",
        "%cd \"$SERVER_DIR\"\n",
        "!zip -r -0 /content/plugins.zip plugins/ \n",
        "%cd /content\n",
        "!nohup python3 -m http.server 6969 &> http.txt &\n",
        "print(colored(\"Download address\",\"green\"), colored(download_url, \"blue\"))"
      ],
      "execution_count": null,
      "outputs": []
    },
    {
      "cell_type": "markdown",
      "metadata": {
        "id": "NZjLOgGB_NC9"
      },
      "source": [
        "Backup all files"
      ]
    },
    {
      "cell_type": "code",
      "metadata": {
        "cellView": "form",
        "id": "rN5T2hZT_NC-"
      },
      "source": [
        "#@markdown ####Path to server files\n",
        "#@markdown ######omit / at the end\n",
        "SERVER_DIR= \"/content/drive/MyDrive/MCServer\" #@param {type:\"string\"}\n",
        " # Terminate open tunnels if exist\n",
        "ngrok.kill()\n",
        "#@markdown #### Setting the authtoken\n",
        "#@markdown ######Get your authtoken from https://dashboard.ngrok.com/auth\n",
        "NGROK_AUTH_TOKEN = \"\" #@param {type:\"string\"}\n",
        "#@markdown #####Set the ngrok region nearest to you (check region codes at the bottom of this notebook)\n",
        "Region=\"in\" #@param {type:\"string\"}\n",
        "ngrok.set_auth_token(NGROK_AUTH_TOKEN)\n",
        "conf.get_default().region = Region\n",
        " \n",
        "# Open a HTTPs tunnel on port 6969 for Download Server\n",
        "download_url = ngrok.connect(6969, proto=\"http\", options={\"country\": \"in\"})\n",
        "\n",
        "\n",
        "%cd \"$SERVER_DIR\"\n",
        "!zip -r -0 /content/server.zip * \n",
        "%cd /content\n",
        "!nohup python3 -m http.server 6969 &> http.txt &\n",
        "print(colored(\"Download address\",\"green\"), colored(download_url, \"blue\"))"
      ],
      "execution_count": null,
      "outputs": []
    },
    {
      "cell_type": "markdown",
      "metadata": {
        "id": "YyaqgF4Zft98"
      },
      "source": [
        "\n",
        "\n",
        "Code | Region\n",
        "--- | ---\n",
        "us | United States\n",
        "eu | Europe\n",
        "ap | Asia/Pacific\n",
        "au | Australia\n",
        "sa | South America\n",
        "jp | Japan\n",
        "in | India"
      ]
    }
  ]
}